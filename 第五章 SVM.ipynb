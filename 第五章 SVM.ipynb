{
 "cells": [
  {
   "cell_type": "markdown",
   "source": [
    "# 5.1 SVM\r\n",
    "**SVM对特征缩放非常敏感**"
   ],
   "metadata": {}
  },
  {
   "cell_type": "code",
   "execution_count": 1,
   "source": [
    "import numpy as np\r\n",
    "from sklearn import datasets\r\n",
    "from sklearn.pipeline import Pipeline\r\n",
    "from sklearn.preprocessing import StandardScaler\r\n",
    "from sklearn.svm import LinearSVC"
   ],
   "outputs": [],
   "metadata": {}
  },
  {
   "cell_type": "code",
   "execution_count": 4,
   "source": [
    "iris = datasets.load_iris()\r\n",
    "X = iris[\"data\"][:, (2,3)]\r\n",
    "y = (iris[\"target\"] == 2).astype(np.float64)\r\n",
    "\r\n",
    "svm_clf = Pipeline([\r\n",
    "    (\"scaler\",StandardScaler()),\r\n",
    "    (\"linear_svc\",LinearSVC(C=1, loss=\"hinge\"))\r\n",
    "])\r\n",
    "\r\n",
    "svm_clf.fit(X, y)"
   ],
   "outputs": [
    {
     "output_type": "execute_result",
     "data": {
      "text/plain": [
       "Pipeline(steps=[('scaler', StandardScaler()),\n",
       "                ('linear_svc', LinearSVC(C=1, loss='hinge'))])"
      ]
     },
     "metadata": {},
     "execution_count": 4
    }
   ],
   "metadata": {}
  },
  {
   "cell_type": "code",
   "execution_count": 6,
   "source": [
    "svm_clf.predict([[5.5,1.7]])"
   ],
   "outputs": [
    {
     "output_type": "execute_result",
     "data": {
      "text/plain": [
       "array([1.])"
      ]
     },
     "metadata": {},
     "execution_count": 6
    }
   ],
   "metadata": {}
  },
  {
   "cell_type": "code",
   "execution_count": 38,
   "source": [
    "y_pred = svm_clf.predict(X)"
   ],
   "outputs": [],
   "metadata": {}
  },
  {
   "cell_type": "code",
   "execution_count": 40,
   "source": [
    "svm_clf['linear_svc'].support_vectors_"
   ],
   "outputs": [
    {
     "output_type": "error",
     "ename": "AttributeError",
     "evalue": "'LinearSVC' object has no attribute 'support_vectors_'",
     "traceback": [
      "\u001b[1;31m---------------------------------------------------------------------------\u001b[0m",
      "\u001b[1;31mAttributeError\u001b[0m                            Traceback (most recent call last)",
      "\u001b[1;32m<ipython-input-40-aa20806ac003>\u001b[0m in \u001b[0;36m<module>\u001b[1;34m\u001b[0m\n\u001b[1;32m----> 1\u001b[1;33m \u001b[0msvm_clf\u001b[0m\u001b[1;33m[\u001b[0m\u001b[1;34m'linear_svc'\u001b[0m\u001b[1;33m]\u001b[0m\u001b[1;33m.\u001b[0m\u001b[0msupport_vectors_\u001b[0m\u001b[1;33m\u001b[0m\u001b[1;33m\u001b[0m\u001b[0m\n\u001b[0m",
      "\u001b[1;31mAttributeError\u001b[0m: 'LinearSVC' object has no attribute 'support_vectors_'"
     ]
    }
   ],
   "metadata": {}
  },
  {
   "cell_type": "code",
   "execution_count": 32,
   "source": [
    "import matplotlib.pyplot as plt\r\n",
    "plt.plot(X[:,0][y == 0], X[:,1][y == 0],\"bs\")\r\n",
    "plt.plot(X[:,0][y == 1], X[:,1][y == 1],\"yo\")\r\n",
    "plt.show()"
   ],
   "outputs": [
    {
     "output_type": "display_data",
     "data": {
      "text/plain": [
       "<Figure size 432x288 with 1 Axes>"
      ],
      "image/svg+xml": "<?xml version=\"1.0\" encoding=\"utf-8\" standalone=\"no\"?>\r\n<!DOCTYPE svg PUBLIC \"-//W3C//DTD SVG 1.1//EN\"\r\n  \"http://www.w3.org/Graphics/SVG/1.1/DTD/svg11.dtd\">\r\n<!-- Created with matplotlib (https://matplotlib.org/) -->\r\n<svg height=\"248.518125pt\" version=\"1.1\" viewBox=\"0 0 372.103125 248.518125\" width=\"372.103125pt\" xmlns=\"http://www.w3.org/2000/svg\" xmlns:xlink=\"http://www.w3.org/1999/xlink\">\r\n <metadata>\r\n  <rdf:RDF xmlns:cc=\"http://creativecommons.org/ns#\" xmlns:dc=\"http://purl.org/dc/elements/1.1/\" xmlns:rdf=\"http://www.w3.org/1999/02/22-rdf-syntax-ns#\">\r\n   <cc:Work>\r\n    <dc:type rdf:resource=\"http://purl.org/dc/dcmitype/StillImage\"/>\r\n    <dc:date>2021-09-01T20:54:02.154129</dc:date>\r\n    <dc:format>image/svg+xml</dc:format>\r\n    <dc:creator>\r\n     <cc:Agent>\r\n      <dc:title>Matplotlib v3.3.4, https://matplotlib.org/</dc:title>\r\n     </cc:Agent>\r\n    </dc:creator>\r\n   </cc:Work>\r\n  </rdf:RDF>\r\n </metadata>\r\n <defs>\r\n  <style type=\"text/css\">*{stroke-linecap:butt;stroke-linejoin:round;}</style>\r\n </defs>\r\n <g id=\"figure_1\">\r\n  <g id=\"patch_1\">\r\n   <path d=\"M 0 248.518125 \r\nL 372.103125 248.518125 \r\nL 372.103125 0 \r\nL 0 0 \r\nz\r\n\" style=\"fill:none;\"/>\r\n  </g>\r\n  <g id=\"axes_1\">\r\n   <g id=\"patch_2\">\r\n    <path d=\"M 30.103125 224.64 \r\nL 364.903125 224.64 \r\nL 364.903125 7.2 \r\nL 30.103125 7.2 \r\nz\r\n\" style=\"fill:#ffffff;\"/>\r\n   </g>\r\n   <g id=\"matplotlib.axis_1\">\r\n    <g id=\"xtick_1\">\r\n     <g id=\"line2d_1\">\r\n      <defs>\r\n       <path d=\"M 0 0 \r\nL 0 3.5 \r\n\" id=\"m7407c6e9b3\" style=\"stroke:#000000;stroke-width:0.8;\"/>\r\n      </defs>\r\n      <g>\r\n       <use style=\"stroke:#000000;stroke-width:0.8;\" x=\"45.321307\" xlink:href=\"#m7407c6e9b3\" y=\"224.64\"/>\r\n      </g>\r\n     </g>\r\n     <g id=\"text_1\">\r\n      <!-- 1 -->\r\n      <g transform=\"translate(42.140057 239.238437)scale(0.1 -0.1)\">\r\n       <defs>\r\n        <path d=\"M 12.40625 8.296875 \r\nL 28.515625 8.296875 \r\nL 28.515625 63.921875 \r\nL 10.984375 60.40625 \r\nL 10.984375 69.390625 \r\nL 28.421875 72.90625 \r\nL 38.28125 72.90625 \r\nL 38.28125 8.296875 \r\nL 54.390625 8.296875 \r\nL 54.390625 0 \r\nL 12.40625 0 \r\nz\r\n\" id=\"DejaVuSans-49\"/>\r\n       </defs>\r\n       <use xlink:href=\"#DejaVuSans-49\"/>\r\n      </g>\r\n     </g>\r\n    </g>\r\n    <g id=\"xtick_2\">\r\n     <g id=\"line2d_2\">\r\n      <g>\r\n       <use style=\"stroke:#000000;stroke-width:0.8;\" x=\"96.908364\" xlink:href=\"#m7407c6e9b3\" y=\"224.64\"/>\r\n      </g>\r\n     </g>\r\n     <g id=\"text_2\">\r\n      <!-- 2 -->\r\n      <g transform=\"translate(93.727114 239.238437)scale(0.1 -0.1)\">\r\n       <defs>\r\n        <path d=\"M 19.1875 8.296875 \r\nL 53.609375 8.296875 \r\nL 53.609375 0 \r\nL 7.328125 0 \r\nL 7.328125 8.296875 \r\nQ 12.9375 14.109375 22.625 23.890625 \r\nQ 32.328125 33.6875 34.8125 36.53125 \r\nQ 39.546875 41.84375 41.421875 45.53125 \r\nQ 43.3125 49.21875 43.3125 52.78125 \r\nQ 43.3125 58.59375 39.234375 62.25 \r\nQ 35.15625 65.921875 28.609375 65.921875 \r\nQ 23.96875 65.921875 18.8125 64.3125 \r\nQ 13.671875 62.703125 7.8125 59.421875 \r\nL 7.8125 69.390625 \r\nQ 13.765625 71.78125 18.9375 73 \r\nQ 24.125 74.21875 28.421875 74.21875 \r\nQ 39.75 74.21875 46.484375 68.546875 \r\nQ 53.21875 62.890625 53.21875 53.421875 \r\nQ 53.21875 48.921875 51.53125 44.890625 \r\nQ 49.859375 40.875 45.40625 35.40625 \r\nQ 44.1875 33.984375 37.640625 27.21875 \r\nQ 31.109375 20.453125 19.1875 8.296875 \r\nz\r\n\" id=\"DejaVuSans-50\"/>\r\n       </defs>\r\n       <use xlink:href=\"#DejaVuSans-50\"/>\r\n      </g>\r\n     </g>\r\n    </g>\r\n    <g id=\"xtick_3\">\r\n     <g id=\"line2d_3\">\r\n      <g>\r\n       <use style=\"stroke:#000000;stroke-width:0.8;\" x=\"148.495421\" xlink:href=\"#m7407c6e9b3\" y=\"224.64\"/>\r\n      </g>\r\n     </g>\r\n     <g id=\"text_3\">\r\n      <!-- 3 -->\r\n      <g transform=\"translate(145.314171 239.238437)scale(0.1 -0.1)\">\r\n       <defs>\r\n        <path d=\"M 40.578125 39.3125 \r\nQ 47.65625 37.796875 51.625 33 \r\nQ 55.609375 28.21875 55.609375 21.1875 \r\nQ 55.609375 10.40625 48.1875 4.484375 \r\nQ 40.765625 -1.421875 27.09375 -1.421875 \r\nQ 22.515625 -1.421875 17.65625 -0.515625 \r\nQ 12.796875 0.390625 7.625 2.203125 \r\nL 7.625 11.71875 \r\nQ 11.71875 9.328125 16.59375 8.109375 \r\nQ 21.484375 6.890625 26.8125 6.890625 \r\nQ 36.078125 6.890625 40.9375 10.546875 \r\nQ 45.796875 14.203125 45.796875 21.1875 \r\nQ 45.796875 27.640625 41.28125 31.265625 \r\nQ 36.765625 34.90625 28.71875 34.90625 \r\nL 20.21875 34.90625 \r\nL 20.21875 43.015625 \r\nL 29.109375 43.015625 \r\nQ 36.375 43.015625 40.234375 45.921875 \r\nQ 44.09375 48.828125 44.09375 54.296875 \r\nQ 44.09375 59.90625 40.109375 62.90625 \r\nQ 36.140625 65.921875 28.71875 65.921875 \r\nQ 24.65625 65.921875 20.015625 65.03125 \r\nQ 15.375 64.15625 9.8125 62.3125 \r\nL 9.8125 71.09375 \r\nQ 15.4375 72.65625 20.34375 73.4375 \r\nQ 25.25 74.21875 29.59375 74.21875 \r\nQ 40.828125 74.21875 47.359375 69.109375 \r\nQ 53.90625 64.015625 53.90625 55.328125 \r\nQ 53.90625 49.265625 50.4375 45.09375 \r\nQ 46.96875 40.921875 40.578125 39.3125 \r\nz\r\n\" id=\"DejaVuSans-51\"/>\r\n       </defs>\r\n       <use xlink:href=\"#DejaVuSans-51\"/>\r\n      </g>\r\n     </g>\r\n    </g>\r\n    <g id=\"xtick_4\">\r\n     <g id=\"line2d_4\">\r\n      <g>\r\n       <use style=\"stroke:#000000;stroke-width:0.8;\" x=\"200.082478\" xlink:href=\"#m7407c6e9b3\" y=\"224.64\"/>\r\n      </g>\r\n     </g>\r\n     <g id=\"text_4\">\r\n      <!-- 4 -->\r\n      <g transform=\"translate(196.901228 239.238437)scale(0.1 -0.1)\">\r\n       <defs>\r\n        <path d=\"M 37.796875 64.3125 \r\nL 12.890625 25.390625 \r\nL 37.796875 25.390625 \r\nz\r\nM 35.203125 72.90625 \r\nL 47.609375 72.90625 \r\nL 47.609375 25.390625 \r\nL 58.015625 25.390625 \r\nL 58.015625 17.1875 \r\nL 47.609375 17.1875 \r\nL 47.609375 0 \r\nL 37.796875 0 \r\nL 37.796875 17.1875 \r\nL 4.890625 17.1875 \r\nL 4.890625 26.703125 \r\nz\r\n\" id=\"DejaVuSans-52\"/>\r\n       </defs>\r\n       <use xlink:href=\"#DejaVuSans-52\"/>\r\n      </g>\r\n     </g>\r\n    </g>\r\n    <g id=\"xtick_5\">\r\n     <g id=\"line2d_5\">\r\n      <g>\r\n       <use style=\"stroke:#000000;stroke-width:0.8;\" x=\"251.669535\" xlink:href=\"#m7407c6e9b3\" y=\"224.64\"/>\r\n      </g>\r\n     </g>\r\n     <g id=\"text_5\">\r\n      <!-- 5 -->\r\n      <g transform=\"translate(248.488285 239.238437)scale(0.1 -0.1)\">\r\n       <defs>\r\n        <path d=\"M 10.796875 72.90625 \r\nL 49.515625 72.90625 \r\nL 49.515625 64.59375 \r\nL 19.828125 64.59375 \r\nL 19.828125 46.734375 \r\nQ 21.96875 47.46875 24.109375 47.828125 \r\nQ 26.265625 48.1875 28.421875 48.1875 \r\nQ 40.625 48.1875 47.75 41.5 \r\nQ 54.890625 34.8125 54.890625 23.390625 \r\nQ 54.890625 11.625 47.5625 5.09375 \r\nQ 40.234375 -1.421875 26.90625 -1.421875 \r\nQ 22.3125 -1.421875 17.546875 -0.640625 \r\nQ 12.796875 0.140625 7.71875 1.703125 \r\nL 7.71875 11.625 \r\nQ 12.109375 9.234375 16.796875 8.0625 \r\nQ 21.484375 6.890625 26.703125 6.890625 \r\nQ 35.15625 6.890625 40.078125 11.328125 \r\nQ 45.015625 15.765625 45.015625 23.390625 \r\nQ 45.015625 31 40.078125 35.4375 \r\nQ 35.15625 39.890625 26.703125 39.890625 \r\nQ 22.75 39.890625 18.8125 39.015625 \r\nQ 14.890625 38.140625 10.796875 36.28125 \r\nz\r\n\" id=\"DejaVuSans-53\"/>\r\n       </defs>\r\n       <use xlink:href=\"#DejaVuSans-53\"/>\r\n      </g>\r\n     </g>\r\n    </g>\r\n    <g id=\"xtick_6\">\r\n     <g id=\"line2d_6\">\r\n      <g>\r\n       <use style=\"stroke:#000000;stroke-width:0.8;\" x=\"303.256592\" xlink:href=\"#m7407c6e9b3\" y=\"224.64\"/>\r\n      </g>\r\n     </g>\r\n     <g id=\"text_6\">\r\n      <!-- 6 -->\r\n      <g transform=\"translate(300.075342 239.238437)scale(0.1 -0.1)\">\r\n       <defs>\r\n        <path d=\"M 33.015625 40.375 \r\nQ 26.375 40.375 22.484375 35.828125 \r\nQ 18.609375 31.296875 18.609375 23.390625 \r\nQ 18.609375 15.53125 22.484375 10.953125 \r\nQ 26.375 6.390625 33.015625 6.390625 \r\nQ 39.65625 6.390625 43.53125 10.953125 \r\nQ 47.40625 15.53125 47.40625 23.390625 \r\nQ 47.40625 31.296875 43.53125 35.828125 \r\nQ 39.65625 40.375 33.015625 40.375 \r\nz\r\nM 52.59375 71.296875 \r\nL 52.59375 62.3125 \r\nQ 48.875 64.0625 45.09375 64.984375 \r\nQ 41.3125 65.921875 37.59375 65.921875 \r\nQ 27.828125 65.921875 22.671875 59.328125 \r\nQ 17.53125 52.734375 16.796875 39.40625 \r\nQ 19.671875 43.65625 24.015625 45.921875 \r\nQ 28.375 48.1875 33.59375 48.1875 \r\nQ 44.578125 48.1875 50.953125 41.515625 \r\nQ 57.328125 34.859375 57.328125 23.390625 \r\nQ 57.328125 12.15625 50.6875 5.359375 \r\nQ 44.046875 -1.421875 33.015625 -1.421875 \r\nQ 20.359375 -1.421875 13.671875 8.265625 \r\nQ 6.984375 17.96875 6.984375 36.375 \r\nQ 6.984375 53.65625 15.1875 63.9375 \r\nQ 23.390625 74.21875 37.203125 74.21875 \r\nQ 40.921875 74.21875 44.703125 73.484375 \r\nQ 48.484375 72.75 52.59375 71.296875 \r\nz\r\n\" id=\"DejaVuSans-54\"/>\r\n       </defs>\r\n       <use xlink:href=\"#DejaVuSans-54\"/>\r\n      </g>\r\n     </g>\r\n    </g>\r\n    <g id=\"xtick_7\">\r\n     <g id=\"line2d_7\">\r\n      <g>\r\n       <use style=\"stroke:#000000;stroke-width:0.8;\" x=\"354.843649\" xlink:href=\"#m7407c6e9b3\" y=\"224.64\"/>\r\n      </g>\r\n     </g>\r\n     <g id=\"text_7\">\r\n      <!-- 7 -->\r\n      <g transform=\"translate(351.662399 239.238437)scale(0.1 -0.1)\">\r\n       <defs>\r\n        <path d=\"M 8.203125 72.90625 \r\nL 55.078125 72.90625 \r\nL 55.078125 68.703125 \r\nL 28.609375 0 \r\nL 18.3125 0 \r\nL 43.21875 64.59375 \r\nL 8.203125 64.59375 \r\nz\r\n\" id=\"DejaVuSans-55\"/>\r\n       </defs>\r\n       <use xlink:href=\"#DejaVuSans-55\"/>\r\n      </g>\r\n     </g>\r\n    </g>\r\n   </g>\r\n   <g id=\"matplotlib.axis_2\">\r\n    <g id=\"ytick_1\">\r\n     <g id=\"line2d_8\">\r\n      <defs>\r\n       <path d=\"M 0 0 \r\nL -3.5 0 \r\n\" id=\"m7322b10151\" style=\"stroke:#000000;stroke-width:0.8;\"/>\r\n      </defs>\r\n      <g>\r\n       <use style=\"stroke:#000000;stroke-width:0.8;\" x=\"30.103125\" xlink:href=\"#m7322b10151\" y=\"222.992727\"/>\r\n      </g>\r\n     </g>\r\n     <g id=\"text_8\">\r\n      <!-- 0.0 -->\r\n      <g transform=\"translate(7.2 226.791946)scale(0.1 -0.1)\">\r\n       <defs>\r\n        <path d=\"M 31.78125 66.40625 \r\nQ 24.171875 66.40625 20.328125 58.90625 \r\nQ 16.5 51.421875 16.5 36.375 \r\nQ 16.5 21.390625 20.328125 13.890625 \r\nQ 24.171875 6.390625 31.78125 6.390625 \r\nQ 39.453125 6.390625 43.28125 13.890625 \r\nQ 47.125 21.390625 47.125 36.375 \r\nQ 47.125 51.421875 43.28125 58.90625 \r\nQ 39.453125 66.40625 31.78125 66.40625 \r\nz\r\nM 31.78125 74.21875 \r\nQ 44.046875 74.21875 50.515625 64.515625 \r\nQ 56.984375 54.828125 56.984375 36.375 \r\nQ 56.984375 17.96875 50.515625 8.265625 \r\nQ 44.046875 -1.421875 31.78125 -1.421875 \r\nQ 19.53125 -1.421875 13.0625 8.265625 \r\nQ 6.59375 17.96875 6.59375 36.375 \r\nQ 6.59375 54.828125 13.0625 64.515625 \r\nQ 19.53125 74.21875 31.78125 74.21875 \r\nz\r\n\" id=\"DejaVuSans-48\"/>\r\n        <path d=\"M 10.6875 12.40625 \r\nL 21 12.40625 \r\nL 21 0 \r\nL 10.6875 0 \r\nz\r\n\" id=\"DejaVuSans-46\"/>\r\n       </defs>\r\n       <use xlink:href=\"#DejaVuSans-48\"/>\r\n       <use x=\"63.623047\" xlink:href=\"#DejaVuSans-46\"/>\r\n       <use x=\"95.410156\" xlink:href=\"#DejaVuSans-48\"/>\r\n      </g>\r\n     </g>\r\n    </g>\r\n    <g id=\"ytick_2\">\r\n     <g id=\"line2d_9\">\r\n      <g>\r\n       <use style=\"stroke:#000000;stroke-width:0.8;\" x=\"30.103125\" xlink:href=\"#m7322b10151\" y=\"181.810909\"/>\r\n      </g>\r\n     </g>\r\n     <g id=\"text_9\">\r\n      <!-- 0.5 -->\r\n      <g transform=\"translate(7.2 185.610128)scale(0.1 -0.1)\">\r\n       <use xlink:href=\"#DejaVuSans-48\"/>\r\n       <use x=\"63.623047\" xlink:href=\"#DejaVuSans-46\"/>\r\n       <use x=\"95.410156\" xlink:href=\"#DejaVuSans-53\"/>\r\n      </g>\r\n     </g>\r\n    </g>\r\n    <g id=\"ytick_3\">\r\n     <g id=\"line2d_10\">\r\n      <g>\r\n       <use style=\"stroke:#000000;stroke-width:0.8;\" x=\"30.103125\" xlink:href=\"#m7322b10151\" y=\"140.629091\"/>\r\n      </g>\r\n     </g>\r\n     <g id=\"text_10\">\r\n      <!-- 1.0 -->\r\n      <g transform=\"translate(7.2 144.42831)scale(0.1 -0.1)\">\r\n       <use xlink:href=\"#DejaVuSans-49\"/>\r\n       <use x=\"63.623047\" xlink:href=\"#DejaVuSans-46\"/>\r\n       <use x=\"95.410156\" xlink:href=\"#DejaVuSans-48\"/>\r\n      </g>\r\n     </g>\r\n    </g>\r\n    <g id=\"ytick_4\">\r\n     <g id=\"line2d_11\">\r\n      <g>\r\n       <use style=\"stroke:#000000;stroke-width:0.8;\" x=\"30.103125\" xlink:href=\"#m7322b10151\" y=\"99.447273\"/>\r\n      </g>\r\n     </g>\r\n     <g id=\"text_11\">\r\n      <!-- 1.5 -->\r\n      <g transform=\"translate(7.2 103.246491)scale(0.1 -0.1)\">\r\n       <use xlink:href=\"#DejaVuSans-49\"/>\r\n       <use x=\"63.623047\" xlink:href=\"#DejaVuSans-46\"/>\r\n       <use x=\"95.410156\" xlink:href=\"#DejaVuSans-53\"/>\r\n      </g>\r\n     </g>\r\n    </g>\r\n    <g id=\"ytick_5\">\r\n     <g id=\"line2d_12\">\r\n      <g>\r\n       <use style=\"stroke:#000000;stroke-width:0.8;\" x=\"30.103125\" xlink:href=\"#m7322b10151\" y=\"58.265455\"/>\r\n      </g>\r\n     </g>\r\n     <g id=\"text_12\">\r\n      <!-- 2.0 -->\r\n      <g transform=\"translate(7.2 62.064673)scale(0.1 -0.1)\">\r\n       <use xlink:href=\"#DejaVuSans-50\"/>\r\n       <use x=\"63.623047\" xlink:href=\"#DejaVuSans-46\"/>\r\n       <use x=\"95.410156\" xlink:href=\"#DejaVuSans-48\"/>\r\n      </g>\r\n     </g>\r\n    </g>\r\n    <g id=\"ytick_6\">\r\n     <g id=\"line2d_13\">\r\n      <g>\r\n       <use style=\"stroke:#000000;stroke-width:0.8;\" x=\"30.103125\" xlink:href=\"#m7322b10151\" y=\"17.083636\"/>\r\n      </g>\r\n     </g>\r\n     <g id=\"text_13\">\r\n      <!-- 2.5 -->\r\n      <g transform=\"translate(7.2 20.882855)scale(0.1 -0.1)\">\r\n       <use xlink:href=\"#DejaVuSans-50\"/>\r\n       <use x=\"63.623047\" xlink:href=\"#DejaVuSans-46\"/>\r\n       <use x=\"95.410156\" xlink:href=\"#DejaVuSans-53\"/>\r\n      </g>\r\n     </g>\r\n    </g>\r\n   </g>\r\n   <g id=\"line2d_14\">\r\n    <defs>\r\n     <path d=\"M -3 3 \r\nL 3 3 \r\nL 3 -3 \r\nL -3 -3 \r\nz\r\n\" id=\"mdf229d3111\" style=\"stroke:#0000ff;stroke-linejoin:miter;\"/>\r\n    </defs>\r\n    <g clip-path=\"url(#p5ae7301f39)\">\r\n     <use style=\"fill:#0000ff;stroke:#0000ff;stroke-linejoin:miter;\" x=\"65.95613\" xlink:href=\"#mdf229d3111\" y=\"206.52\"/>\r\n     <use style=\"fill:#0000ff;stroke:#0000ff;stroke-linejoin:miter;\" x=\"65.95613\" xlink:href=\"#mdf229d3111\" y=\"206.52\"/>\r\n     <use style=\"fill:#0000ff;stroke:#0000ff;stroke-linejoin:miter;\" x=\"60.797424\" xlink:href=\"#mdf229d3111\" y=\"206.52\"/>\r\n     <use style=\"fill:#0000ff;stroke:#0000ff;stroke-linejoin:miter;\" x=\"71.114835\" xlink:href=\"#mdf229d3111\" y=\"206.52\"/>\r\n     <use style=\"fill:#0000ff;stroke:#0000ff;stroke-linejoin:miter;\" x=\"65.95613\" xlink:href=\"#mdf229d3111\" y=\"206.52\"/>\r\n     <use style=\"fill:#0000ff;stroke:#0000ff;stroke-linejoin:miter;\" x=\"81.432247\" xlink:href=\"#mdf229d3111\" y=\"190.047273\"/>\r\n     <use style=\"fill:#0000ff;stroke:#0000ff;stroke-linejoin:miter;\" x=\"65.95613\" xlink:href=\"#mdf229d3111\" y=\"198.283636\"/>\r\n     <use style=\"fill:#0000ff;stroke:#0000ff;stroke-linejoin:miter;\" x=\"71.114835\" xlink:href=\"#mdf229d3111\" y=\"206.52\"/>\r\n     <use style=\"fill:#0000ff;stroke:#0000ff;stroke-linejoin:miter;\" x=\"65.95613\" xlink:href=\"#mdf229d3111\" y=\"206.52\"/>\r\n     <use style=\"fill:#0000ff;stroke:#0000ff;stroke-linejoin:miter;\" x=\"71.114835\" xlink:href=\"#mdf229d3111\" y=\"214.756364\"/>\r\n     <use style=\"fill:#0000ff;stroke:#0000ff;stroke-linejoin:miter;\" x=\"71.114835\" xlink:href=\"#mdf229d3111\" y=\"206.52\"/>\r\n     <use style=\"fill:#0000ff;stroke:#0000ff;stroke-linejoin:miter;\" x=\"76.273541\" xlink:href=\"#mdf229d3111\" y=\"206.52\"/>\r\n     <use style=\"fill:#0000ff;stroke:#0000ff;stroke-linejoin:miter;\" x=\"65.95613\" xlink:href=\"#mdf229d3111\" y=\"214.756364\"/>\r\n     <use style=\"fill:#0000ff;stroke:#0000ff;stroke-linejoin:miter;\" x=\"50.480013\" xlink:href=\"#mdf229d3111\" y=\"214.756364\"/>\r\n     <use style=\"fill:#0000ff;stroke:#0000ff;stroke-linejoin:miter;\" x=\"55.638718\" xlink:href=\"#mdf229d3111\" y=\"206.52\"/>\r\n     <use style=\"fill:#0000ff;stroke:#0000ff;stroke-linejoin:miter;\" x=\"71.114835\" xlink:href=\"#mdf229d3111\" y=\"190.047273\"/>\r\n     <use style=\"fill:#0000ff;stroke:#0000ff;stroke-linejoin:miter;\" x=\"60.797424\" xlink:href=\"#mdf229d3111\" y=\"190.047273\"/>\r\n     <use style=\"fill:#0000ff;stroke:#0000ff;stroke-linejoin:miter;\" x=\"65.95613\" xlink:href=\"#mdf229d3111\" y=\"198.283636\"/>\r\n     <use style=\"fill:#0000ff;stroke:#0000ff;stroke-linejoin:miter;\" x=\"81.432247\" xlink:href=\"#mdf229d3111\" y=\"198.283636\"/>\r\n     <use style=\"fill:#0000ff;stroke:#0000ff;stroke-linejoin:miter;\" x=\"71.114835\" xlink:href=\"#mdf229d3111\" y=\"198.283636\"/>\r\n     <use style=\"fill:#0000ff;stroke:#0000ff;stroke-linejoin:miter;\" x=\"81.432247\" xlink:href=\"#mdf229d3111\" y=\"206.52\"/>\r\n     <use style=\"fill:#0000ff;stroke:#0000ff;stroke-linejoin:miter;\" x=\"71.114835\" xlink:href=\"#mdf229d3111\" y=\"190.047273\"/>\r\n     <use style=\"fill:#0000ff;stroke:#0000ff;stroke-linejoin:miter;\" x=\"45.321307\" xlink:href=\"#mdf229d3111\" y=\"206.52\"/>\r\n     <use style=\"fill:#0000ff;stroke:#0000ff;stroke-linejoin:miter;\" x=\"81.432247\" xlink:href=\"#mdf229d3111\" y=\"181.810909\"/>\r\n     <use style=\"fill:#0000ff;stroke:#0000ff;stroke-linejoin:miter;\" x=\"91.749658\" xlink:href=\"#mdf229d3111\" y=\"206.52\"/>\r\n     <use style=\"fill:#0000ff;stroke:#0000ff;stroke-linejoin:miter;\" x=\"76.273541\" xlink:href=\"#mdf229d3111\" y=\"206.52\"/>\r\n     <use style=\"fill:#0000ff;stroke:#0000ff;stroke-linejoin:miter;\" x=\"76.273541\" xlink:href=\"#mdf229d3111\" y=\"190.047273\"/>\r\n     <use style=\"fill:#0000ff;stroke:#0000ff;stroke-linejoin:miter;\" x=\"71.114835\" xlink:href=\"#mdf229d3111\" y=\"206.52\"/>\r\n     <use style=\"fill:#0000ff;stroke:#0000ff;stroke-linejoin:miter;\" x=\"65.95613\" xlink:href=\"#mdf229d3111\" y=\"206.52\"/>\r\n     <use style=\"fill:#0000ff;stroke:#0000ff;stroke-linejoin:miter;\" x=\"76.273541\" xlink:href=\"#mdf229d3111\" y=\"206.52\"/>\r\n     <use style=\"fill:#0000ff;stroke:#0000ff;stroke-linejoin:miter;\" x=\"76.273541\" xlink:href=\"#mdf229d3111\" y=\"206.52\"/>\r\n     <use style=\"fill:#0000ff;stroke:#0000ff;stroke-linejoin:miter;\" x=\"71.114835\" xlink:href=\"#mdf229d3111\" y=\"190.047273\"/>\r\n     <use style=\"fill:#0000ff;stroke:#0000ff;stroke-linejoin:miter;\" x=\"71.114835\" xlink:href=\"#mdf229d3111\" y=\"214.756364\"/>\r\n     <use style=\"fill:#0000ff;stroke:#0000ff;stroke-linejoin:miter;\" x=\"65.95613\" xlink:href=\"#mdf229d3111\" y=\"206.52\"/>\r\n     <use style=\"fill:#0000ff;stroke:#0000ff;stroke-linejoin:miter;\" x=\"71.114835\" xlink:href=\"#mdf229d3111\" y=\"206.52\"/>\r\n     <use style=\"fill:#0000ff;stroke:#0000ff;stroke-linejoin:miter;\" x=\"55.638718\" xlink:href=\"#mdf229d3111\" y=\"206.52\"/>\r\n     <use style=\"fill:#0000ff;stroke:#0000ff;stroke-linejoin:miter;\" x=\"60.797424\" xlink:href=\"#mdf229d3111\" y=\"206.52\"/>\r\n     <use style=\"fill:#0000ff;stroke:#0000ff;stroke-linejoin:miter;\" x=\"65.95613\" xlink:href=\"#mdf229d3111\" y=\"214.756364\"/>\r\n     <use style=\"fill:#0000ff;stroke:#0000ff;stroke-linejoin:miter;\" x=\"60.797424\" xlink:href=\"#mdf229d3111\" y=\"206.52\"/>\r\n     <use style=\"fill:#0000ff;stroke:#0000ff;stroke-linejoin:miter;\" x=\"71.114835\" xlink:href=\"#mdf229d3111\" y=\"206.52\"/>\r\n     <use style=\"fill:#0000ff;stroke:#0000ff;stroke-linejoin:miter;\" x=\"60.797424\" xlink:href=\"#mdf229d3111\" y=\"198.283636\"/>\r\n     <use style=\"fill:#0000ff;stroke:#0000ff;stroke-linejoin:miter;\" x=\"60.797424\" xlink:href=\"#mdf229d3111\" y=\"198.283636\"/>\r\n     <use style=\"fill:#0000ff;stroke:#0000ff;stroke-linejoin:miter;\" x=\"60.797424\" xlink:href=\"#mdf229d3111\" y=\"206.52\"/>\r\n     <use style=\"fill:#0000ff;stroke:#0000ff;stroke-linejoin:miter;\" x=\"76.273541\" xlink:href=\"#mdf229d3111\" y=\"173.574545\"/>\r\n     <use style=\"fill:#0000ff;stroke:#0000ff;stroke-linejoin:miter;\" x=\"91.749658\" xlink:href=\"#mdf229d3111\" y=\"190.047273\"/>\r\n     <use style=\"fill:#0000ff;stroke:#0000ff;stroke-linejoin:miter;\" x=\"65.95613\" xlink:href=\"#mdf229d3111\" y=\"198.283636\"/>\r\n     <use style=\"fill:#0000ff;stroke:#0000ff;stroke-linejoin:miter;\" x=\"76.273541\" xlink:href=\"#mdf229d3111\" y=\"206.52\"/>\r\n     <use style=\"fill:#0000ff;stroke:#0000ff;stroke-linejoin:miter;\" x=\"65.95613\" xlink:href=\"#mdf229d3111\" y=\"206.52\"/>\r\n     <use style=\"fill:#0000ff;stroke:#0000ff;stroke-linejoin:miter;\" x=\"71.114835\" xlink:href=\"#mdf229d3111\" y=\"206.52\"/>\r\n     <use style=\"fill:#0000ff;stroke:#0000ff;stroke-linejoin:miter;\" x=\"65.95613\" xlink:href=\"#mdf229d3111\" y=\"206.52\"/>\r\n     <use style=\"fill:#0000ff;stroke:#0000ff;stroke-linejoin:miter;\" x=\"236.193418\" xlink:href=\"#mdf229d3111\" y=\"107.683636\"/>\r\n     <use style=\"fill:#0000ff;stroke:#0000ff;stroke-linejoin:miter;\" x=\"225.876006\" xlink:href=\"#mdf229d3111\" y=\"99.447273\"/>\r\n     <use style=\"fill:#0000ff;stroke:#0000ff;stroke-linejoin:miter;\" x=\"246.510829\" xlink:href=\"#mdf229d3111\" y=\"99.447273\"/>\r\n     <use style=\"fill:#0000ff;stroke:#0000ff;stroke-linejoin:miter;\" x=\"200.082478\" xlink:href=\"#mdf229d3111\" y=\"115.92\"/>\r\n     <use style=\"fill:#0000ff;stroke:#0000ff;stroke-linejoin:miter;\" x=\"231.034712\" xlink:href=\"#mdf229d3111\" y=\"99.447273\"/>\r\n     <use style=\"fill:#0000ff;stroke:#0000ff;stroke-linejoin:miter;\" x=\"225.876006\" xlink:href=\"#mdf229d3111\" y=\"115.92\"/>\r\n     <use style=\"fill:#0000ff;stroke:#0000ff;stroke-linejoin:miter;\" x=\"236.193418\" xlink:href=\"#mdf229d3111\" y=\"91.210909\"/>\r\n     <use style=\"fill:#0000ff;stroke:#0000ff;stroke-linejoin:miter;\" x=\"163.971538\" xlink:href=\"#mdf229d3111\" y=\"140.629091\"/>\r\n     <use style=\"fill:#0000ff;stroke:#0000ff;stroke-linejoin:miter;\" x=\"231.034712\" xlink:href=\"#mdf229d3111\" y=\"115.92\"/>\r\n     <use style=\"fill:#0000ff;stroke:#0000ff;stroke-linejoin:miter;\" x=\"194.923772\" xlink:href=\"#mdf229d3111\" y=\"107.683636\"/>\r\n     <use style=\"fill:#0000ff;stroke:#0000ff;stroke-linejoin:miter;\" x=\"174.288949\" xlink:href=\"#mdf229d3111\" y=\"140.629091\"/>\r\n     <use style=\"fill:#0000ff;stroke:#0000ff;stroke-linejoin:miter;\" x=\"210.399889\" xlink:href=\"#mdf229d3111\" y=\"99.447273\"/>\r\n     <use style=\"fill:#0000ff;stroke:#0000ff;stroke-linejoin:miter;\" x=\"200.082478\" xlink:href=\"#mdf229d3111\" y=\"140.629091\"/>\r\n     <use style=\"fill:#0000ff;stroke:#0000ff;stroke-linejoin:miter;\" x=\"236.193418\" xlink:href=\"#mdf229d3111\" y=\"107.683636\"/>\r\n     <use style=\"fill:#0000ff;stroke:#0000ff;stroke-linejoin:miter;\" x=\"179.447655\" xlink:href=\"#mdf229d3111\" y=\"115.92\"/>\r\n     <use style=\"fill:#0000ff;stroke:#0000ff;stroke-linejoin:miter;\" x=\"220.717301\" xlink:href=\"#mdf229d3111\" y=\"107.683636\"/>\r\n     <use style=\"fill:#0000ff;stroke:#0000ff;stroke-linejoin:miter;\" x=\"225.876006\" xlink:href=\"#mdf229d3111\" y=\"99.447273\"/>\r\n     <use style=\"fill:#0000ff;stroke:#0000ff;stroke-linejoin:miter;\" x=\"205.241184\" xlink:href=\"#mdf229d3111\" y=\"140.629091\"/>\r\n     <use style=\"fill:#0000ff;stroke:#0000ff;stroke-linejoin:miter;\" x=\"225.876006\" xlink:href=\"#mdf229d3111\" y=\"99.447273\"/>\r\n     <use style=\"fill:#0000ff;stroke:#0000ff;stroke-linejoin:miter;\" x=\"194.923772\" xlink:href=\"#mdf229d3111\" y=\"132.392727\"/>\r\n     <use style=\"fill:#0000ff;stroke:#0000ff;stroke-linejoin:miter;\" x=\"241.352123\" xlink:href=\"#mdf229d3111\" y=\"74.738182\"/>\r\n     <use style=\"fill:#0000ff;stroke:#0000ff;stroke-linejoin:miter;\" x=\"200.082478\" xlink:href=\"#mdf229d3111\" y=\"115.92\"/>\r\n     <use style=\"fill:#0000ff;stroke:#0000ff;stroke-linejoin:miter;\" x=\"246.510829\" xlink:href=\"#mdf229d3111\" y=\"99.447273\"/>\r\n     <use style=\"fill:#0000ff;stroke:#0000ff;stroke-linejoin:miter;\" x=\"236.193418\" xlink:href=\"#mdf229d3111\" y=\"124.156364\"/>\r\n     <use style=\"fill:#0000ff;stroke:#0000ff;stroke-linejoin:miter;\" x=\"215.558595\" xlink:href=\"#mdf229d3111\" y=\"115.92\"/>\r\n     <use style=\"fill:#0000ff;stroke:#0000ff;stroke-linejoin:miter;\" x=\"220.717301\" xlink:href=\"#mdf229d3111\" y=\"107.683636\"/>\r\n     <use style=\"fill:#0000ff;stroke:#0000ff;stroke-linejoin:miter;\" x=\"241.352123\" xlink:href=\"#mdf229d3111\" y=\"107.683636\"/>\r\n     <use style=\"fill:#0000ff;stroke:#0000ff;stroke-linejoin:miter;\" x=\"251.669535\" xlink:href=\"#mdf229d3111\" y=\"82.974545\"/>\r\n     <use style=\"fill:#0000ff;stroke:#0000ff;stroke-linejoin:miter;\" x=\"225.876006\" xlink:href=\"#mdf229d3111\" y=\"99.447273\"/>\r\n     <use style=\"fill:#0000ff;stroke:#0000ff;stroke-linejoin:miter;\" x=\"174.288949\" xlink:href=\"#mdf229d3111\" y=\"140.629091\"/>\r\n     <use style=\"fill:#0000ff;stroke:#0000ff;stroke-linejoin:miter;\" x=\"189.765066\" xlink:href=\"#mdf229d3111\" y=\"132.392727\"/>\r\n     <use style=\"fill:#0000ff;stroke:#0000ff;stroke-linejoin:miter;\" x=\"184.606361\" xlink:href=\"#mdf229d3111\" y=\"140.629091\"/>\r\n     <use style=\"fill:#0000ff;stroke:#0000ff;stroke-linejoin:miter;\" x=\"194.923772\" xlink:href=\"#mdf229d3111\" y=\"124.156364\"/>\r\n     <use style=\"fill:#0000ff;stroke:#0000ff;stroke-linejoin:miter;\" x=\"256.828241\" xlink:href=\"#mdf229d3111\" y=\"91.210909\"/>\r\n     <use style=\"fill:#0000ff;stroke:#0000ff;stroke-linejoin:miter;\" x=\"225.876006\" xlink:href=\"#mdf229d3111\" y=\"99.447273\"/>\r\n     <use style=\"fill:#0000ff;stroke:#0000ff;stroke-linejoin:miter;\" x=\"225.876006\" xlink:href=\"#mdf229d3111\" y=\"91.210909\"/>\r\n     <use style=\"fill:#0000ff;stroke:#0000ff;stroke-linejoin:miter;\" x=\"236.193418\" xlink:href=\"#mdf229d3111\" y=\"99.447273\"/>\r\n     <use style=\"fill:#0000ff;stroke:#0000ff;stroke-linejoin:miter;\" x=\"220.717301\" xlink:href=\"#mdf229d3111\" y=\"115.92\"/>\r\n     <use style=\"fill:#0000ff;stroke:#0000ff;stroke-linejoin:miter;\" x=\"205.241184\" xlink:href=\"#mdf229d3111\" y=\"115.92\"/>\r\n     <use style=\"fill:#0000ff;stroke:#0000ff;stroke-linejoin:miter;\" x=\"200.082478\" xlink:href=\"#mdf229d3111\" y=\"115.92\"/>\r\n     <use style=\"fill:#0000ff;stroke:#0000ff;stroke-linejoin:miter;\" x=\"220.717301\" xlink:href=\"#mdf229d3111\" y=\"124.156364\"/>\r\n     <use style=\"fill:#0000ff;stroke:#0000ff;stroke-linejoin:miter;\" x=\"231.034712\" xlink:href=\"#mdf229d3111\" y=\"107.683636\"/>\r\n     <use style=\"fill:#0000ff;stroke:#0000ff;stroke-linejoin:miter;\" x=\"200.082478\" xlink:href=\"#mdf229d3111\" y=\"124.156364\"/>\r\n     <use style=\"fill:#0000ff;stroke:#0000ff;stroke-linejoin:miter;\" x=\"163.971538\" xlink:href=\"#mdf229d3111\" y=\"140.629091\"/>\r\n     <use style=\"fill:#0000ff;stroke:#0000ff;stroke-linejoin:miter;\" x=\"210.399889\" xlink:href=\"#mdf229d3111\" y=\"115.92\"/>\r\n     <use style=\"fill:#0000ff;stroke:#0000ff;stroke-linejoin:miter;\" x=\"210.399889\" xlink:href=\"#mdf229d3111\" y=\"124.156364\"/>\r\n     <use style=\"fill:#0000ff;stroke:#0000ff;stroke-linejoin:miter;\" x=\"210.399889\" xlink:href=\"#mdf229d3111\" y=\"115.92\"/>\r\n     <use style=\"fill:#0000ff;stroke:#0000ff;stroke-linejoin:miter;\" x=\"215.558595\" xlink:href=\"#mdf229d3111\" y=\"115.92\"/>\r\n     <use style=\"fill:#0000ff;stroke:#0000ff;stroke-linejoin:miter;\" x=\"148.495421\" xlink:href=\"#mdf229d3111\" y=\"132.392727\"/>\r\n     <use style=\"fill:#0000ff;stroke:#0000ff;stroke-linejoin:miter;\" x=\"205.241184\" xlink:href=\"#mdf229d3111\" y=\"115.92\"/>\r\n    </g>\r\n   </g>\r\n   <g id=\"line2d_15\">\r\n    <defs>\r\n     <path d=\"M 0 3 \r\nC 0.795609 3 1.55874 2.683901 2.12132 2.12132 \r\nC 2.683901 1.55874 3 0.795609 3 0 \r\nC 3 -0.795609 2.683901 -1.55874 2.12132 -2.12132 \r\nC 1.55874 -2.683901 0.795609 -3 0 -3 \r\nC -0.795609 -3 -1.55874 -2.683901 -2.12132 -2.12132 \r\nC -2.683901 -1.55874 -3 -0.795609 -3 0 \r\nC -3 0.795609 -2.683901 1.55874 -2.12132 2.12132 \r\nC -1.55874 2.683901 -0.795609 3 0 3 \r\nz\r\n\" id=\"mf518380147\" style=\"stroke:#bfbf00;\"/>\r\n    </defs>\r\n    <g clip-path=\"url(#p5ae7301f39)\">\r\n     <use style=\"fill:#bfbf00;stroke:#bfbf00;\" x=\"303.256592\" xlink:href=\"#mf518380147\" y=\"17.083636\"/>\r\n     <use style=\"fill:#bfbf00;stroke:#bfbf00;\" x=\"256.828241\" xlink:href=\"#mf518380147\" y=\"66.501818\"/>\r\n     <use style=\"fill:#bfbf00;stroke:#bfbf00;\" x=\"298.097886\" xlink:href=\"#mf518380147\" y=\"50.029091\"/>\r\n     <use style=\"fill:#bfbf00;stroke:#bfbf00;\" x=\"282.621769\" xlink:href=\"#mf518380147\" y=\"74.738182\"/>\r\n     <use style=\"fill:#bfbf00;stroke:#bfbf00;\" x=\"292.93918\" xlink:href=\"#mf518380147\" y=\"41.792727\"/>\r\n     <use style=\"fill:#bfbf00;stroke:#bfbf00;\" x=\"334.208826\" xlink:href=\"#mf518380147\" y=\"50.029091\"/>\r\n     <use style=\"fill:#bfbf00;stroke:#bfbf00;\" x=\"225.876006\" xlink:href=\"#mf518380147\" y=\"82.974545\"/>\r\n     <use style=\"fill:#bfbf00;stroke:#bfbf00;\" x=\"318.732709\" xlink:href=\"#mf518380147\" y=\"74.738182\"/>\r\n     <use style=\"fill:#bfbf00;stroke:#bfbf00;\" x=\"292.93918\" xlink:href=\"#mf518380147\" y=\"74.738182\"/>\r\n     <use style=\"fill:#bfbf00;stroke:#bfbf00;\" x=\"308.415298\" xlink:href=\"#mf518380147\" y=\"17.083636\"/>\r\n     <use style=\"fill:#bfbf00;stroke:#bfbf00;\" x=\"256.828241\" xlink:href=\"#mf518380147\" y=\"58.265455\"/>\r\n     <use style=\"fill:#bfbf00;stroke:#bfbf00;\" x=\"267.145652\" xlink:href=\"#mf518380147\" y=\"66.501818\"/>\r\n     <use style=\"fill:#bfbf00;stroke:#bfbf00;\" x=\"277.463063\" xlink:href=\"#mf518380147\" y=\"50.029091\"/>\r\n     <use style=\"fill:#bfbf00;stroke:#bfbf00;\" x=\"251.669535\" xlink:href=\"#mf518380147\" y=\"58.265455\"/>\r\n     <use style=\"fill:#bfbf00;stroke:#bfbf00;\" x=\"256.828241\" xlink:href=\"#mf518380147\" y=\"25.32\"/>\r\n     <use style=\"fill:#bfbf00;stroke:#bfbf00;\" x=\"267.145652\" xlink:href=\"#mf518380147\" y=\"33.556364\"/>\r\n     <use style=\"fill:#bfbf00;stroke:#bfbf00;\" x=\"277.463063\" xlink:href=\"#mf518380147\" y=\"74.738182\"/>\r\n     <use style=\"fill:#bfbf00;stroke:#bfbf00;\" x=\"339.367532\" xlink:href=\"#mf518380147\" y=\"41.792727\"/>\r\n     <use style=\"fill:#bfbf00;stroke:#bfbf00;\" x=\"349.684943\" xlink:href=\"#mf518380147\" y=\"33.556364\"/>\r\n     <use style=\"fill:#bfbf00;stroke:#bfbf00;\" x=\"251.669535\" xlink:href=\"#mf518380147\" y=\"99.447273\"/>\r\n     <use style=\"fill:#bfbf00;stroke:#bfbf00;\" x=\"287.780475\" xlink:href=\"#mf518380147\" y=\"33.556364\"/>\r\n     <use style=\"fill:#bfbf00;stroke:#bfbf00;\" x=\"246.510829\" xlink:href=\"#mf518380147\" y=\"58.265455\"/>\r\n     <use style=\"fill:#bfbf00;stroke:#bfbf00;\" x=\"339.367532\" xlink:href=\"#mf518380147\" y=\"58.265455\"/>\r\n     <use style=\"fill:#bfbf00;stroke:#bfbf00;\" x=\"246.510829\" xlink:href=\"#mf518380147\" y=\"74.738182\"/>\r\n     <use style=\"fill:#bfbf00;stroke:#bfbf00;\" x=\"287.780475\" xlink:href=\"#mf518380147\" y=\"50.029091\"/>\r\n     <use style=\"fill:#bfbf00;stroke:#bfbf00;\" x=\"303.256592\" xlink:href=\"#mf518380147\" y=\"74.738182\"/>\r\n     <use style=\"fill:#bfbf00;stroke:#bfbf00;\" x=\"241.352123\" xlink:href=\"#mf518380147\" y=\"74.738182\"/>\r\n     <use style=\"fill:#bfbf00;stroke:#bfbf00;\" x=\"246.510829\" xlink:href=\"#mf518380147\" y=\"74.738182\"/>\r\n     <use style=\"fill:#bfbf00;stroke:#bfbf00;\" x=\"282.621769\" xlink:href=\"#mf518380147\" y=\"50.029091\"/>\r\n     <use style=\"fill:#bfbf00;stroke:#bfbf00;\" x=\"292.93918\" xlink:href=\"#mf518380147\" y=\"91.210909\"/>\r\n     <use style=\"fill:#bfbf00;stroke:#bfbf00;\" x=\"308.415298\" xlink:href=\"#mf518380147\" y=\"66.501818\"/>\r\n     <use style=\"fill:#bfbf00;stroke:#bfbf00;\" x=\"323.891415\" xlink:href=\"#mf518380147\" y=\"58.265455\"/>\r\n     <use style=\"fill:#bfbf00;stroke:#bfbf00;\" x=\"282.621769\" xlink:href=\"#mf518380147\" y=\"41.792727\"/>\r\n     <use style=\"fill:#bfbf00;stroke:#bfbf00;\" x=\"256.828241\" xlink:href=\"#mf518380147\" y=\"99.447273\"/>\r\n     <use style=\"fill:#bfbf00;stroke:#bfbf00;\" x=\"282.621769\" xlink:href=\"#mf518380147\" y=\"107.683636\"/>\r\n     <use style=\"fill:#bfbf00;stroke:#bfbf00;\" x=\"308.415298\" xlink:href=\"#mf518380147\" y=\"33.556364\"/>\r\n     <use style=\"fill:#bfbf00;stroke:#bfbf00;\" x=\"282.621769\" xlink:href=\"#mf518380147\" y=\"25.32\"/>\r\n     <use style=\"fill:#bfbf00;stroke:#bfbf00;\" x=\"277.463063\" xlink:href=\"#mf518380147\" y=\"74.738182\"/>\r\n     <use style=\"fill:#bfbf00;stroke:#bfbf00;\" x=\"241.352123\" xlink:href=\"#mf518380147\" y=\"74.738182\"/>\r\n     <use style=\"fill:#bfbf00;stroke:#bfbf00;\" x=\"272.304358\" xlink:href=\"#mf518380147\" y=\"50.029091\"/>\r\n     <use style=\"fill:#bfbf00;stroke:#bfbf00;\" x=\"282.621769\" xlink:href=\"#mf518380147\" y=\"25.32\"/>\r\n     <use style=\"fill:#bfbf00;stroke:#bfbf00;\" x=\"256.828241\" xlink:href=\"#mf518380147\" y=\"33.556364\"/>\r\n     <use style=\"fill:#bfbf00;stroke:#bfbf00;\" x=\"256.828241\" xlink:href=\"#mf518380147\" y=\"66.501818\"/>\r\n     <use style=\"fill:#bfbf00;stroke:#bfbf00;\" x=\"298.097886\" xlink:href=\"#mf518380147\" y=\"33.556364\"/>\r\n     <use style=\"fill:#bfbf00;stroke:#bfbf00;\" x=\"287.780475\" xlink:href=\"#mf518380147\" y=\"17.083636\"/>\r\n     <use style=\"fill:#bfbf00;stroke:#bfbf00;\" x=\"261.986946\" xlink:href=\"#mf518380147\" y=\"33.556364\"/>\r\n     <use style=\"fill:#bfbf00;stroke:#bfbf00;\" x=\"251.669535\" xlink:href=\"#mf518380147\" y=\"66.501818\"/>\r\n     <use style=\"fill:#bfbf00;stroke:#bfbf00;\" x=\"261.986946\" xlink:href=\"#mf518380147\" y=\"58.265455\"/>\r\n     <use style=\"fill:#bfbf00;stroke:#bfbf00;\" x=\"272.304358\" xlink:href=\"#mf518380147\" y=\"33.556364\"/>\r\n     <use style=\"fill:#bfbf00;stroke:#bfbf00;\" x=\"256.828241\" xlink:href=\"#mf518380147\" y=\"74.738182\"/>\r\n    </g>\r\n   </g>\r\n   <g id=\"patch_3\">\r\n    <path d=\"M 30.103125 224.64 \r\nL 30.103125 7.2 \r\n\" style=\"fill:none;stroke:#000000;stroke-linecap:square;stroke-linejoin:miter;stroke-width:0.8;\"/>\r\n   </g>\r\n   <g id=\"patch_4\">\r\n    <path d=\"M 364.903125 224.64 \r\nL 364.903125 7.2 \r\n\" style=\"fill:none;stroke:#000000;stroke-linecap:square;stroke-linejoin:miter;stroke-width:0.8;\"/>\r\n   </g>\r\n   <g id=\"patch_5\">\r\n    <path d=\"M 30.103125 224.64 \r\nL 364.903125 224.64 \r\n\" style=\"fill:none;stroke:#000000;stroke-linecap:square;stroke-linejoin:miter;stroke-width:0.8;\"/>\r\n   </g>\r\n   <g id=\"patch_6\">\r\n    <path d=\"M 30.103125 7.2 \r\nL 364.903125 7.2 \r\n\" style=\"fill:none;stroke:#000000;stroke-linecap:square;stroke-linejoin:miter;stroke-width:0.8;\"/>\r\n   </g>\r\n  </g>\r\n </g>\r\n <defs>\r\n  <clipPath id=\"p5ae7301f39\">\r\n   <rect height=\"217.44\" width=\"334.8\" x=\"30.103125\" y=\"7.2\"/>\r\n  </clipPath>\r\n </defs>\r\n</svg>\r\n",
      "image/png": "[encoded data removed]"
     },
     "metadata": {
      "needs_background": "light"
     }
    }
   ],
   "metadata": {}
  },
  {
   "cell_type": "code",
   "execution_count": 37,
   "source": [
    "from sklearn.svm import SVC\r\n",
    "poly_kernel_scm_clf = Pipeline([\r\n",
    "    (\"scaler\", StandardScaler()),\r\n",
    "    (\"svm_clf\", SVC(kernel=\"poly\", degree=3, coef0=1, C=5))\r\n",
    "])\r\n",
    "poly_kernel_scm_clf.fit(X,y)"
   ],
   "outputs": [
    {
     "output_type": "execute_result",
     "data": {
      "text/plain": [
       "Pipeline(steps=[('scaler', StandardScaler()),\n",
       "                ('svm_clf', SVC(C=5, coef0=1, kernel='poly'))])"
      ]
     },
     "metadata": {},
     "execution_count": 37
    }
   ],
   "metadata": {}
  },
  {
   "cell_type": "code",
   "execution_count": 41,
   "source": [
    "from sklearn.svm import SVC\r\n",
    "X2 = [[0, 0], [1, 1]]\r\n",
    "y2 = [0,1]"
   ],
   "outputs": [],
   "metadata": {}
  },
  {
   "cell_type": "code",
   "execution_count": 42,
   "source": [
    "clf = SVC()\r\n",
    "clf.fit(X2, y2)\r\n",
    "clf.predict([[2, 2]])"
   ],
   "outputs": [
    {
     "output_type": "execute_result",
     "data": {
      "text/plain": [
       "array([1])"
      ]
     },
     "metadata": {},
     "execution_count": 42
    }
   ],
   "metadata": {}
  },
  {
   "cell_type": "code",
   "execution_count": 43,
   "source": [
    "clf.support_vectors_\r\n",
    "#支持向量"
   ],
   "outputs": [
    {
     "output_type": "execute_result",
     "data": {
      "text/plain": [
       "array([[0., 0.],\n",
       "       [1., 1.]])"
      ]
     },
     "metadata": {},
     "execution_count": 43
    }
   ],
   "metadata": {}
  },
  {
   "cell_type": "code",
   "execution_count": 46,
   "source": [
    "clf.support_\r\n",
    "# 支持向量的指标"
   ],
   "outputs": [
    {
     "output_type": "execute_result",
     "data": {
      "text/plain": [
       "array([0, 1])"
      ]
     },
     "metadata": {},
     "execution_count": 46
    }
   ],
   "metadata": {}
  },
  {
   "cell_type": "code",
   "execution_count": 47,
   "source": [
    "clf.decision_function(X2)\r\n",
    "# 决策函数计算，点到决策平面的距离"
   ],
   "outputs": [
    {
     "output_type": "execute_result",
     "data": {
      "text/plain": [
       "array([-0.98168436,  0.98168436])"
      ]
     },
     "metadata": {},
     "execution_count": 47
    }
   ],
   "metadata": {}
  },
  {
   "cell_type": "code",
   "execution_count": 48,
   "source": [
    "# 多分类ovo，默认ovr\r\n",
    "svm_ovo = SVC(decision_function_shape='ovo')"
   ],
   "outputs": [],
   "metadata": {}
  },
  {
   "cell_type": "code",
   "execution_count": 49,
   "source": [
    "svm_ovo.fit(X,y)"
   ],
   "outputs": [
    {
     "output_type": "execute_result",
     "data": {
      "text/plain": [
       "SVC(decision_function_shape='ovo')"
      ]
     },
     "metadata": {},
     "execution_count": 49
    }
   ],
   "metadata": {}
  },
  {
   "cell_type": "code",
   "execution_count": 50,
   "source": [
    "# 评估报告\r\n",
    "from sklearn.metrics import classification_report\r\n",
    "y_true = [0, 1, 2, 2, 2]\r\n",
    "y_pred = [0, 0, 2, 2, 1]\r\n",
    "target_names = ['class 0', 'class 1', 'class 2']\r\n",
    "print(classification_report(y_true, y_pred, target_names=target_names))"
   ],
   "outputs": [
    {
     "output_type": "stream",
     "name": "stdout",
     "text": [
      "              precision    recall  f1-score   support\n",
      "\n",
      "     class 0       0.50      1.00      0.67         1\n",
      "     class 1       0.00      0.00      0.00         1\n",
      "     class 2       1.00      0.67      0.80         3\n",
      "\n",
      "    accuracy                           0.60         5\n",
      "   macro avg       0.50      0.56      0.49         5\n",
      "weighted avg       0.70      0.60      0.61         5\n",
      "\n"
     ]
    }
   ],
   "metadata": {}
  },
  {
   "cell_type": "markdown",
   "source": [
    "+ 1. LinearSVC\r\n",
    "- 基于liblinear库实现\r\n",
    "- 有多种惩罚参数和损失函数可供选择\r\n",
    "- 训练集实例数量大（大于1万）时也可以很好地进行归一化\r\n",
    "将cache_size设置为比默认值200(MB)更高的值，例如500(MB)或1000(MB)\r\n",
    "+ 2. 将cache_size设置为比默认值200(MB)更高的值，例如500(MB)或1000(MB)\r\n",
    "+ 3. OneClassSVM用于异常值检测"
   ],
   "metadata": {}
  }
 ],
 "metadata": {
  "orig_nbformat": 4,
  "language_info": {
   "name": "python",
   "version": "3.8.8",
   "mimetype": "text/x-python",
   "codemirror_mode": {
    "name": "ipython",
    "version": 3
   },
   "pygments_lexer": "ipython3",
   "nbconvert_exporter": "python",
   "file_extension": ".py"
  },
  "kernelspec": {
   "name": "python3",
   "display_name": "Python 3.8.8 64-bit"
  },
  "interpreter": {
   "hash": "b3ba2566441a7c06988d0923437866b63cedc61552a5af99d1f4fb67d367b25f"
  }
 },
 "nbformat": 4,
 "nbformat_minor": 2
}